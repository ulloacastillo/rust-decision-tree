{
 "cells": [
  {
   "cell_type": "code",
   "execution_count": 1,
   "id": "551ce904",
   "metadata": {},
   "outputs": [],
   "source": [
    "import pandas as pd\n",
    "import matplotlib.pyplot as plt"
   ]
  },
  {
   "cell_type": "code",
   "execution_count": 17,
   "id": "6ca889a0",
   "metadata": {},
   "outputs": [],
   "source": [
    "data = pd.read_csv('iris.csv', index_col=None)"
   ]
  },
  {
   "cell_type": "code",
   "execution_count": 32,
   "id": "a4864443",
   "metadata": {},
   "outputs": [
    {
     "data": {
      "text/html": [
       "<div>\n",
       "<style scoped>\n",
       "    .dataframe tbody tr th:only-of-type {\n",
       "        vertical-align: middle;\n",
       "    }\n",
       "\n",
       "    .dataframe tbody tr th {\n",
       "        vertical-align: top;\n",
       "    }\n",
       "\n",
       "    .dataframe thead th {\n",
       "        text-align: right;\n",
       "    }\n",
       "</style>\n",
       "<table border=\"1\" class=\"dataframe\">\n",
       "  <thead>\n",
       "    <tr style=\"text-align: right;\">\n",
       "      <th></th>\n",
       "      <th>5.1</th>\n",
       "      <th>3.5</th>\n",
       "      <th>1.4</th>\n",
       "      <th>0.2</th>\n",
       "      <th>1</th>\n",
       "    </tr>\n",
       "  </thead>\n",
       "  <tbody>\n",
       "    <tr>\n",
       "      <th>0</th>\n",
       "      <td>4.9</td>\n",
       "      <td>3.0</td>\n",
       "      <td>1.4</td>\n",
       "      <td>0.2</td>\n",
       "      <td>1</td>\n",
       "    </tr>\n",
       "    <tr>\n",
       "      <th>1</th>\n",
       "      <td>4.7</td>\n",
       "      <td>3.2</td>\n",
       "      <td>1.3</td>\n",
       "      <td>0.2</td>\n",
       "      <td>1</td>\n",
       "    </tr>\n",
       "    <tr>\n",
       "      <th>2</th>\n",
       "      <td>4.6</td>\n",
       "      <td>3.1</td>\n",
       "      <td>1.5</td>\n",
       "      <td>0.2</td>\n",
       "      <td>1</td>\n",
       "    </tr>\n",
       "    <tr>\n",
       "      <th>3</th>\n",
       "      <td>5.0</td>\n",
       "      <td>3.6</td>\n",
       "      <td>1.4</td>\n",
       "      <td>0.2</td>\n",
       "      <td>1</td>\n",
       "    </tr>\n",
       "    <tr>\n",
       "      <th>4</th>\n",
       "      <td>5.4</td>\n",
       "      <td>3.9</td>\n",
       "      <td>1.7</td>\n",
       "      <td>0.4</td>\n",
       "      <td>1</td>\n",
       "    </tr>\n",
       "    <tr>\n",
       "      <th>...</th>\n",
       "      <td>...</td>\n",
       "      <td>...</td>\n",
       "      <td>...</td>\n",
       "      <td>...</td>\n",
       "      <td>...</td>\n",
       "    </tr>\n",
       "    <tr>\n",
       "      <th>8994</th>\n",
       "      <td>4.8</td>\n",
       "      <td>3.1</td>\n",
       "      <td>1.6</td>\n",
       "      <td>0.2</td>\n",
       "      <td>1</td>\n",
       "    </tr>\n",
       "    <tr>\n",
       "      <th>8995</th>\n",
       "      <td>5.4</td>\n",
       "      <td>3.4</td>\n",
       "      <td>1.5</td>\n",
       "      <td>0.4</td>\n",
       "      <td>1</td>\n",
       "    </tr>\n",
       "    <tr>\n",
       "      <th>8996</th>\n",
       "      <td>5.2</td>\n",
       "      <td>4.1</td>\n",
       "      <td>1.5</td>\n",
       "      <td>0.1</td>\n",
       "      <td>1</td>\n",
       "    </tr>\n",
       "    <tr>\n",
       "      <th>8997</th>\n",
       "      <td>5.5</td>\n",
       "      <td>4.2</td>\n",
       "      <td>1.4</td>\n",
       "      <td>0.2</td>\n",
       "      <td>1</td>\n",
       "    </tr>\n",
       "    <tr>\n",
       "      <th>8998</th>\n",
       "      <td>4.9</td>\n",
       "      <td>3.1</td>\n",
       "      <td>1.5</td>\n",
       "      <td>0.2</td>\n",
       "      <td>1</td>\n",
       "    </tr>\n",
       "  </tbody>\n",
       "</table>\n",
       "<p>8999 rows × 5 columns</p>\n",
       "</div>"
      ],
      "text/plain": [
       "      5.1  3.5  1.4  0.2  1\n",
       "0     4.9  3.0  1.4  0.2  1\n",
       "1     4.7  3.2  1.3  0.2  1\n",
       "2     4.6  3.1  1.5  0.2  1\n",
       "3     5.0  3.6  1.4  0.2  1\n",
       "4     5.4  3.9  1.7  0.4  1\n",
       "...   ...  ...  ...  ... ..\n",
       "8994  4.8  3.1  1.6  0.2  1\n",
       "8995  5.4  3.4  1.5  0.4  1\n",
       "8996  5.2  4.1  1.5  0.1  1\n",
       "8997  5.5  4.2  1.4  0.2  1\n",
       "8998  4.9  3.1  1.5  0.2  1\n",
       "\n",
       "[8999 rows x 5 columns]"
      ]
     },
     "execution_count": 32,
     "metadata": {},
     "output_type": "execute_result"
    }
   ],
   "source": [
    "data"
   ]
  },
  {
   "cell_type": "code",
   "execution_count": 42,
   "id": "34ba7f18",
   "metadata": {},
   "outputs": [
    {
     "data": {
      "text/plain": [
       "0       1\n",
       "1       1\n",
       "2       1\n",
       "3       1\n",
       "4       1\n",
       "       ..\n",
       "8994    1\n",
       "8995    1\n",
       "8996    1\n",
       "8997    1\n",
       "8998    1\n",
       "Length: 8999, dtype: object"
      ]
     },
     "execution_count": 42,
     "metadata": {},
     "output_type": "execute_result"
    }
   ],
   "source": [
    "from sklearn import tree\n",
    "\n",
    "clf = tree.DecisionTreeClassifier(criterion='gini')\n",
    "x = data.iloc[: , :4]\n",
    "y =pd.Series(map(str, data.iloc[: , 4]))\n",
    "y"
   ]
  },
  {
   "cell_type": "code",
   "execution_count": 45,
   "id": "00c28e8d",
   "metadata": {},
   "outputs": [
    {
     "data": {
      "text/plain": [
       "40.0"
      ]
     },
     "execution_count": 45,
     "metadata": {},
     "output_type": "execute_result"
    }
   ],
   "source": [
    "800/20"
   ]
  },
  {
   "cell_type": "code",
   "execution_count": 44,
   "id": "3e2cc4bc",
   "metadata": {},
   "outputs": [
    {
     "name": "stdout",
     "output_type": "stream",
     "text": [
      "17.9 ms ± 1.48 ms per loop (mean ± std. dev. of 4 runs, 10 loops each)\n"
     ]
    }
   ],
   "source": [
    "%%timeit -r 4 -n 10\n",
    "clf.fit(x, y)"
   ]
  },
  {
   "cell_type": "code",
   "execution_count": 7,
   "id": "cbf090d1",
   "metadata": {},
   "outputs": [
    {
     "data": {
      "text/plain": [
       "0.0037500000000000003"
      ]
     },
     "execution_count": 7,
     "metadata": {},
     "output_type": "execute_result"
    }
   ],
   "source": [
    "1500*2.5e-6"
   ]
  },
  {
   "cell_type": "code",
   "execution_count": null,
   "id": "cef0a9f4",
   "metadata": {},
   "outputs": [],
   "source": [
    "def transform_milisec(sec):\n",
    "    try:\n",
    "        time = float(sec[:-2])\n",
    "        unit = sec[-2:]\n",
    "        if unit == 'ms':\n",
    "            return time\n",
    "        elif unit == 'ns':\n",
    "            return time/1000000\n",
    "        elif unit == 'µs':\n",
    "            return time/1000\n",
    "        else:\n",
    "            return time\n",
    "    except:\n",
    "        print(sec[:-1])\n",
    "        time = float(sec[:-1])\n",
    "        \n",
    "        return time*1000"
   ]
  },
  {
   "cell_type": "code",
   "execution_count": null,
   "id": "84197b3b",
   "metadata": {},
   "outputs": [],
   "source": [
    "total_time = data.iloc[-1]['function']\n",
    "data = data.iloc[:-1]\n",
    "total_time"
   ]
  },
  {
   "cell_type": "code",
   "execution_count": null,
   "id": "a095234f",
   "metadata": {},
   "outputs": [],
   "source": [
    "data"
   ]
  },
  {
   "cell_type": "code",
   "execution_count": null,
   "id": "216ab0f2",
   "metadata": {},
   "outputs": [],
   "source": [
    "data['time'] = data['time'].apply(transform_milisec)"
   ]
  },
  {
   "cell_type": "code",
   "execution_count": null,
   "id": "565775db",
   "metadata": {},
   "outputs": [],
   "source": [
    "data"
   ]
  },
  {
   "cell_type": "code",
   "execution_count": null,
   "id": "423116e5",
   "metadata": {},
   "outputs": [],
   "source": [
    "data['time'].sum()/1000"
   ]
  },
  {
   "cell_type": "code",
   "execution_count": null,
   "id": "9175cfce",
   "metadata": {},
   "outputs": [],
   "source": [
    "import numpy as np\n",
    "\n"
   ]
  },
  {
   "cell_type": "code",
   "execution_count": null,
   "id": "353a06dc",
   "metadata": {},
   "outputs": [],
   "source": [
    "arr = pd.read_csv('iris.csv')"
   ]
  },
  {
   "cell_type": "code",
   "execution_count": null,
   "id": "a3d7c44f",
   "metadata": {},
   "outputs": [],
   "source": [
    "y = arr['1']\n",
    "y = [1] + y.to_list()\n"
   ]
  },
  {
   "cell_type": "code",
   "execution_count": 63,
   "id": "e7e8eb73",
   "metadata": {},
   "outputs": [],
   "source": [
    "y = [0]*90000"
   ]
  },
  {
   "cell_type": "code",
   "execution_count": 66,
   "id": "658125d6",
   "metadata": {},
   "outputs": [
    {
     "name": "stdout",
     "output_type": "stream",
     "text": [
      "2.83 ms ± 380 µs per loop (mean ± std. dev. of 10 runs, 10 loops each)\n"
     ]
    }
   ],
   "source": [
    "%%timeit -r 10 -n 10\n",
    "li = []\n",
    "for i in y:\n",
    "    if i not in li:\n",
    "        li.append(i)\n"
   ]
  },
  {
   "cell_type": "code",
   "execution_count": 67,
   "id": "db149b95",
   "metadata": {},
   "outputs": [],
   "source": [
    "import numpy as np\n",
    "y_ = np.array(y)"
   ]
  },
  {
   "cell_type": "code",
   "execution_count": 68,
   "id": "55841e60",
   "metadata": {
    "scrolled": true
   },
   "outputs": [
    {
     "name": "stdout",
     "output_type": "stream",
     "text": [
      "1.09 ms ± 124 µs per loop (mean ± std. dev. of 10 runs, 100 loops each)\n"
     ]
    }
   ],
   "source": [
    "%%timeit -r 10 -n 100\n",
    "np.unique(y_)"
   ]
  },
  {
   "cell_type": "code",
   "execution_count": null,
   "id": "1d7aeae9",
   "metadata": {},
   "outputs": [],
   "source": []
  },
  {
   "cell_type": "code",
   "execution_count": null,
   "id": "9f6ed7be",
   "metadata": {},
   "outputs": [],
   "source": []
  }
 ],
 "metadata": {
  "kernelspec": {
   "display_name": "Python 3 (ipykernel)",
   "language": "python",
   "name": "python3"
  },
  "language_info": {
   "codemirror_mode": {
    "name": "ipython",
    "version": 3
   },
   "file_extension": ".py",
   "mimetype": "text/x-python",
   "name": "python",
   "nbconvert_exporter": "python",
   "pygments_lexer": "ipython3",
   "version": "3.9.7"
  }
 },
 "nbformat": 4,
 "nbformat_minor": 5
}

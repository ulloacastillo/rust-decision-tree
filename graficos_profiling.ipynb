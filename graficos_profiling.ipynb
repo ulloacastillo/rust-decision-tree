{
 "cells": [
  {
   "cell_type": "code",
   "execution_count": 2,
   "id": "551ce904",
   "metadata": {},
   "outputs": [],
   "source": [
    "import pandas as pd\n",
    "import matplotlib.pyplot as plt"
   ]
  },
  {
   "cell_type": "code",
   "execution_count": 24,
   "id": "6ca889a0",
   "metadata": {},
   "outputs": [],
   "source": [
    "data = pd.read_csv('profiling_gini_before_changes.csv.csv')"
   ]
  },
  {
   "cell_type": "code",
   "execution_count": 25,
   "id": "cef0a9f4",
   "metadata": {},
   "outputs": [],
   "source": [
    "def transform_milisec(sec):\n",
    "    try:\n",
    "        time = float(sec[:-2])\n",
    "        unit = sec[-2:]\n",
    "        if unit == 'ms':\n",
    "            return time\n",
    "        elif unit == 'ns':\n",
    "            return time/1000000\n",
    "        elif unit == 'µs':\n",
    "            return time/1000\n",
    "        else:\n",
    "            return time\n",
    "    except:\n",
    "        print(sec[:-1])\n",
    "        time = float(sec[:-1])\n",
    "        \n",
    "        return time*1000"
   ]
  },
  {
   "cell_type": "code",
   "execution_count": 33,
   "id": "84197b3b",
   "metadata": {},
   "outputs": [
    {
     "data": {
      "text/plain": [
       "'7.826838786s'"
      ]
     },
     "execution_count": 33,
     "metadata": {},
     "output_type": "execute_result"
    }
   ],
   "source": [
    "total_time = data.iloc[-1]['function']\n",
    "data = data.iloc[:-1]\n",
    "total_time"
   ]
  },
  {
   "cell_type": "code",
   "execution_count": 34,
   "id": "9fad758a",
   "metadata": {},
   "outputs": [
    {
     "data": {
      "text/html": [
       "<div>\n",
       "<style scoped>\n",
       "    .dataframe tbody tr th:only-of-type {\n",
       "        vertical-align: middle;\n",
       "    }\n",
       "\n",
       "    .dataframe tbody tr th {\n",
       "        vertical-align: top;\n",
       "    }\n",
       "\n",
       "    .dataframe thead th {\n",
       "        text-align: right;\n",
       "    }\n",
       "</style>\n",
       "<table border=\"1\" class=\"dataframe\">\n",
       "  <thead>\n",
       "    <tr style=\"text-align: right;\">\n",
       "      <th></th>\n",
       "      <th>function</th>\n",
       "      <th>time</th>\n",
       "      <th>len</th>\n",
       "    </tr>\n",
       "  </thead>\n",
       "  <tbody>\n",
       "    <tr>\n",
       "      <th>0</th>\n",
       "      <td>unique_vals</td>\n",
       "      <td>10.925471ms</td>\n",
       "      <td>9000.0</td>\n",
       "    </tr>\n",
       "    <tr>\n",
       "      <th>1</th>\n",
       "      <td>Gini</td>\n",
       "      <td>3.820273ms</td>\n",
       "      <td>9000.0</td>\n",
       "    </tr>\n",
       "    <tr>\n",
       "      <th>2</th>\n",
       "      <td>unique_vals</td>\n",
       "      <td>77.717µs</td>\n",
       "      <td>62.0</td>\n",
       "    </tr>\n",
       "    <tr>\n",
       "      <th>3</th>\n",
       "      <td>Gini</td>\n",
       "      <td>5.648µs</td>\n",
       "      <td>62.0</td>\n",
       "    </tr>\n",
       "    <tr>\n",
       "      <th>4</th>\n",
       "      <td>unique_vals</td>\n",
       "      <td>19.270898ms</td>\n",
       "      <td>8938.0</td>\n",
       "    </tr>\n",
       "    <tr>\n",
       "      <th>...</th>\n",
       "      <td>...</td>\n",
       "      <td>...</td>\n",
       "      <td>...</td>\n",
       "    </tr>\n",
       "    <tr>\n",
       "      <th>3379</th>\n",
       "      <td>Gini</td>\n",
       "      <td>114.88µs</td>\n",
       "      <td>2602.0</td>\n",
       "    </tr>\n",
       "    <tr>\n",
       "      <th>3380</th>\n",
       "      <td>unique_vals</td>\n",
       "      <td>1.552378ms</td>\n",
       "      <td>2441.0</td>\n",
       "    </tr>\n",
       "    <tr>\n",
       "      <th>3381</th>\n",
       "      <td>Gini</td>\n",
       "      <td>88.384µs</td>\n",
       "      <td>2441.0</td>\n",
       "    </tr>\n",
       "    <tr>\n",
       "      <th>3382</th>\n",
       "      <td>unique_vals</td>\n",
       "      <td>101.822µs</td>\n",
       "      <td>161.0</td>\n",
       "    </tr>\n",
       "    <tr>\n",
       "      <th>3383</th>\n",
       "      <td>Gini</td>\n",
       "      <td>6.518µs</td>\n",
       "      <td>161.0</td>\n",
       "    </tr>\n",
       "  </tbody>\n",
       "</table>\n",
       "<p>3384 rows × 3 columns</p>\n",
       "</div>"
      ],
      "text/plain": [
       "         function         time     len\n",
       "0     unique_vals  10.925471ms  9000.0\n",
       "1            Gini   3.820273ms  9000.0\n",
       "2     unique_vals     77.717µs    62.0\n",
       "3            Gini      5.648µs    62.0\n",
       "4     unique_vals  19.270898ms  8938.0\n",
       "...           ...          ...     ...\n",
       "3379         Gini     114.88µs  2602.0\n",
       "3380  unique_vals   1.552378ms  2441.0\n",
       "3381         Gini     88.384µs  2441.0\n",
       "3382  unique_vals    101.822µs   161.0\n",
       "3383         Gini      6.518µs   161.0\n",
       "\n",
       "[3384 rows x 3 columns]"
      ]
     },
     "execution_count": 34,
     "metadata": {},
     "output_type": "execute_result"
    }
   ],
   "source": [
    "data"
   ]
  },
  {
   "cell_type": "code",
   "execution_count": 35,
   "id": "216ab0f2",
   "metadata": {},
   "outputs": [
    {
     "name": "stderr",
     "output_type": "stream",
     "text": [
      "/var/folders/vf/q4kws5qs0vjgrbd6tsb44wfr0000gn/T/ipykernel_76547/3931296818.py:1: SettingWithCopyWarning: \n",
      "A value is trying to be set on a copy of a slice from a DataFrame.\n",
      "Try using .loc[row_indexer,col_indexer] = value instead\n",
      "\n",
      "See the caveats in the documentation: https://pandas.pydata.org/pandas-docs/stable/user_guide/indexing.html#returning-a-view-versus-a-copy\n",
      "  data['time'] = data['time'].apply(transform_milisec)\n"
     ]
    }
   ],
   "source": [
    "data['time'] = data['time'].apply(transform_milisec)"
   ]
  },
  {
   "cell_type": "code",
   "execution_count": 40,
   "id": "b6494e62",
   "metadata": {},
   "outputs": [
    {
     "data": {
      "text/html": [
       "<div>\n",
       "<style scoped>\n",
       "    .dataframe tbody tr th:only-of-type {\n",
       "        vertical-align: middle;\n",
       "    }\n",
       "\n",
       "    .dataframe tbody tr th {\n",
       "        vertical-align: top;\n",
       "    }\n",
       "\n",
       "    .dataframe thead th {\n",
       "        text-align: right;\n",
       "    }\n",
       "</style>\n",
       "<table border=\"1\" class=\"dataframe\">\n",
       "  <thead>\n",
       "    <tr style=\"text-align: right;\">\n",
       "      <th></th>\n",
       "      <th>function</th>\n",
       "      <th>time</th>\n",
       "      <th>len</th>\n",
       "    </tr>\n",
       "  </thead>\n",
       "  <tbody>\n",
       "    <tr>\n",
       "      <th>0</th>\n",
       "      <td>unique_vals</td>\n",
       "      <td>10.925471</td>\n",
       "      <td>9000.0</td>\n",
       "    </tr>\n",
       "    <tr>\n",
       "      <th>1</th>\n",
       "      <td>Gini</td>\n",
       "      <td>3.820273</td>\n",
       "      <td>9000.0</td>\n",
       "    </tr>\n",
       "    <tr>\n",
       "      <th>2</th>\n",
       "      <td>unique_vals</td>\n",
       "      <td>0.077717</td>\n",
       "      <td>62.0</td>\n",
       "    </tr>\n",
       "    <tr>\n",
       "      <th>3</th>\n",
       "      <td>Gini</td>\n",
       "      <td>0.005648</td>\n",
       "      <td>62.0</td>\n",
       "    </tr>\n",
       "    <tr>\n",
       "      <th>4</th>\n",
       "      <td>unique_vals</td>\n",
       "      <td>19.270898</td>\n",
       "      <td>8938.0</td>\n",
       "    </tr>\n",
       "    <tr>\n",
       "      <th>...</th>\n",
       "      <td>...</td>\n",
       "      <td>...</td>\n",
       "      <td>...</td>\n",
       "    </tr>\n",
       "    <tr>\n",
       "      <th>3379</th>\n",
       "      <td>Gini</td>\n",
       "      <td>0.114880</td>\n",
       "      <td>2602.0</td>\n",
       "    </tr>\n",
       "    <tr>\n",
       "      <th>3380</th>\n",
       "      <td>unique_vals</td>\n",
       "      <td>1.552378</td>\n",
       "      <td>2441.0</td>\n",
       "    </tr>\n",
       "    <tr>\n",
       "      <th>3381</th>\n",
       "      <td>Gini</td>\n",
       "      <td>0.088384</td>\n",
       "      <td>2441.0</td>\n",
       "    </tr>\n",
       "    <tr>\n",
       "      <th>3382</th>\n",
       "      <td>unique_vals</td>\n",
       "      <td>0.101822</td>\n",
       "      <td>161.0</td>\n",
       "    </tr>\n",
       "    <tr>\n",
       "      <th>3383</th>\n",
       "      <td>Gini</td>\n",
       "      <td>0.006518</td>\n",
       "      <td>161.0</td>\n",
       "    </tr>\n",
       "  </tbody>\n",
       "</table>\n",
       "<p>3384 rows × 3 columns</p>\n",
       "</div>"
      ],
      "text/plain": [
       "         function       time     len\n",
       "0     unique_vals  10.925471  9000.0\n",
       "1            Gini   3.820273  9000.0\n",
       "2     unique_vals   0.077717    62.0\n",
       "3            Gini   0.005648    62.0\n",
       "4     unique_vals  19.270898  8938.0\n",
       "...           ...        ...     ...\n",
       "3379         Gini   0.114880  2602.0\n",
       "3380  unique_vals   1.552378  2441.0\n",
       "3381         Gini   0.088384  2441.0\n",
       "3382  unique_vals   0.101822   161.0\n",
       "3383         Gini   0.006518   161.0\n",
       "\n",
       "[3384 rows x 3 columns]"
      ]
     },
     "execution_count": 40,
     "metadata": {},
     "output_type": "execute_result"
    }
   ],
   "source": [
    "data"
   ]
  },
  {
   "cell_type": "code",
   "execution_count": 39,
   "id": "423116e5",
   "metadata": {},
   "outputs": [
    {
     "data": {
      "text/plain": [
       "4.74788653"
      ]
     },
     "execution_count": 39,
     "metadata": {},
     "output_type": "execute_result"
    }
   ],
   "source": [
    "data['time'].sum()/1000"
   ]
  },
  {
   "cell_type": "code",
   "execution_count": null,
   "id": "9175cfce",
   "metadata": {},
   "outputs": [],
   "source": []
  }
 ],
 "metadata": {
  "kernelspec": {
   "display_name": "Python 3 (ipykernel)",
   "language": "python",
   "name": "python3"
  },
  "language_info": {
   "codemirror_mode": {
    "name": "ipython",
    "version": 3
   },
   "file_extension": ".py",
   "mimetype": "text/x-python",
   "name": "python",
   "nbconvert_exporter": "python",
   "pygments_lexer": "ipython3",
   "version": "3.9.7"
  }
 },
 "nbformat": 4,
 "nbformat_minor": 5
}

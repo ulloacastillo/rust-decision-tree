{
 "cells": [
  {
   "cell_type": "code",
   "execution_count": 20,
   "id": "ce61e55d",
   "metadata": {},
   "outputs": [],
   "source": [
    "import numpy as np\n",
    "import pandas as pd"
   ]
  },
  {
   "cell_type": "code",
   "execution_count": 21,
   "id": "4decb6b7",
   "metadata": {},
   "outputs": [],
   "source": [
    "rows = 30000\n",
    "cols = 20\n",
    "data = np.empty((rows, cols))\n",
    "\n",
    "for i in range(rows):\n",
    "    for j in range(cols):\n",
    "        data[i,j] = np.random.randint(10)"
   ]
  },
  {
   "cell_type": "code",
   "execution_count": 22,
   "id": "bb11843e",
   "metadata": {},
   "outputs": [],
   "source": [
    "df = pd.DataFrame(data)"
   ]
  },
  {
   "cell_type": "code",
   "execution_count": 24,
   "id": "b4b35a5a",
   "metadata": {},
   "outputs": [],
   "source": [
    "df.to_csv('synthetic.csv')\n"
   ]
  },
  {
   "cell_type": "code",
   "execution_count": null,
   "id": "947e6284",
   "metadata": {},
   "outputs": [],
   "source": []
  }
 ],
 "metadata": {
  "kernelspec": {
   "display_name": "Python 3 (ipykernel)",
   "language": "python",
   "name": "python3"
  },
  "language_info": {
   "codemirror_mode": {
    "name": "ipython",
    "version": 3
   },
   "file_extension": ".py",
   "mimetype": "text/x-python",
   "name": "python",
   "nbconvert_exporter": "python",
   "pygments_lexer": "ipython3",
   "version": "3.11.2"
  }
 },
 "nbformat": 4,
 "nbformat_minor": 5
}

{
 "cells": [
  {
   "cell_type": "code",
   "execution_count": 72,
   "id": "ce61e55d",
   "metadata": {},
   "outputs": [],
   "source": [
    "import numpy as np\n",
    "import pandas as pd\n",
    "import matplotlib.pyplot as plt"
   ]
  },
  {
   "cell_type": "code",
   "execution_count": 73,
   "id": "4decb6b7",
   "metadata": {},
   "outputs": [],
   "source": [
    "rows = 30000\n",
    "cols = 30\n",
    "data = np.empty((rows, cols+1))\n",
    "\n",
    "for i in range(rows):\n",
    "    for j in range(cols):\n",
    "        data[i,j] = np.random.randint(20)\n",
    "    data[i, cols] = int(np.random.randint(10))\n",
    "    \n",
    "\n",
    "df = pd.DataFrame(data)\n",
    "df[cols] = df[cols].astype('int32')\n",
    "df.to_csv('synthetic.csv')\n"
   ]
  },
  {
   "cell_type": "code",
   "execution_count": 45,
   "id": "947e6284",
   "metadata": {},
   "outputs": [
    {
     "name": "stdout",
     "output_type": "stream",
     "text": [
      "6.7,3.3,5.7,2.1,0\n",
      "4.7,3.2,1.3,.2,1\n",
      "6.3,2.8,5.1,1.5,0\n",
      "4.4,3,1.3,.2,1\n",
      "6,2.2,5,1.5,0\n",
      "5,3.5,1.6,.6,1\n",
      "4.9,2.5,4.5,1.7,0\n",
      "6.7,3.3,5.7,2.5,0\n",
      "6.4,3.2,5.3,2.3,0\n",
      "7,3.2,4.7,1.4,2\n",
      "6.4,3.2,4.5,1.5,2\n",
      "7.3,2.9,6.3,1.8,0\n",
      "6.7,3.1,5.6,2.4,0\n",
      "6.2,2.9,4.3,1.3,2\n",
      "6,2.7,5.1,1.6,2\n",
      "5.1,3.8,1.9,.4,1\n",
      "6.7,2.5,5.8,1.8,0\n",
      "5,3.2,1.2,.2,1\n",
      "5.8,2.7,3.9,1.2,2\n",
      "5.1,3.5,1.4,.2,1\n",
      "6.9,3.1,5.4,2.1,0\n",
      "5.7,4.4,1.5,.4,1\n",
      "4.9,2.4,3.3,1,2\n",
      "5.7,3.8,1.7,.3,1\n",
      "5.5,2.5,4,1.3,2\n",
      "7.7,3.8,6.7,2.2,0\n",
      "5.2,2.7,3.9,1.4,2\n",
      "4.8,3.4,1.6,.2,1\n",
      "5,3.3,1.4,.2,1\n",
      "5.7,2.9,4.2,1.3,2\n",
      "6,2.9,4.5,1.5,2\n",
      "5.9,3.2,4.8,1.8,2\n",
      "5.4,3.9,1.7,.4,1\n",
      "5.1,3.5,1.4,.3,1\n",
      "4.3,3,1.1,.1,1\n",
      "7.1,3,5.9,2.1,0\n",
      "4.9,3,1.4,.2,1\n",
      "6.2,3.4,5.4,2.3,0\n"
     ]
    }
   ],
   "source": [
    "text = \"\"\"6.7,3.3,5.7,2.1,0\n",
    "4.7,3.2,1.3,.2,1\n",
    "6.3,2.8,5.1,1.5,0\n",
    "4.4,3,1.3,.2,1\n",
    "6,2.2,5,1.5,0\n",
    "5,3.5,1.6,.6,1\n",
    "4.9,2.5,4.5,1.7,0\n",
    "6.7,3.3,5.7,2.5,0\n",
    "6.4,3.2,5.3,2.3,0\n",
    "7,3.2,4.7,1.4,2\n",
    "6.4,3.2,4.5,1.5,2\n",
    "7.3,2.9,6.3,1.8,0\n",
    "6.7,3.1,5.6,2.4,0\n",
    "6.2,2.9,4.3,1.3,2\n",
    "6,2.7,5.1,1.6,2\n",
    "5.1,3.8,1.9,.4,1\n",
    "6.7,2.5,5.8,1.8,0\n",
    "5,3.2,1.2,.2,1\n",
    "5.8,2.7,3.9,1.2,2\n",
    "5.1,3.5,1.4,.2,1\n",
    "6.9,3.1,5.4,2.1,0\n",
    "5.7,4.4,1.5,.4,1\n",
    "4.9,2.4,3.3,1,2\n",
    "5.7,3.8,1.7,.3,1\n",
    "5.5,2.5,4,1.3,2\n",
    "7.7,3.8,6.7,2.2,0\n",
    "5.2,2.7,3.9,1.4,2\n",
    "4.8,3.4,1.6,.2,1\n",
    "5,3.3,1.4,.2,1\n",
    "5.7,2.9,4.2,1.3,2\n",
    "6,2.9,4.5,1.5,2\n",
    "5.9,3.2,4.8,1.8,2\n",
    "5.4,3.9,1.7,.4,1\n",
    "5.1,3.5,1.4,.3,1\n",
    "4.3,3,1.1,.1,1\n",
    "7.1,3,5.9,2.1,0\n",
    "4.9,3,1.4,.2,1\n",
    "6.2,3.4,5.4,2.3,0\"\"\"\n",
    "\n",
    "print(text)"
   ]
  },
  {
   "cell_type": "code",
   "execution_count": 48,
   "id": "fdedd067",
   "metadata": {},
   "outputs": [
    {
     "data": {
      "text/plain": [
       "38"
      ]
     },
     "execution_count": 48,
     "metadata": {},
     "output_type": "execute_result"
    }
   ],
   "source": [
    "len(dataset)"
   ]
  },
  {
   "cell_type": "code",
   "execution_count": 47,
   "id": "db45c7a2",
   "metadata": {},
   "outputs": [
    {
     "name": "stdout",
     "output_type": "stream",
     "text": [
      "vec![6.7,3.3,5.7,2.1,4.7,3.2,1.3,0.2,6.3,2.8,5.1,1.5,4.4,3.0,1.3,0.2,6.0,2.2,5.0,1.5,5.0,3.5,1.6,0.6,4.9,2.5,4.5,1.7,6.7,3.3,5.7,2.5,6.4,3.2,5.3,2.3,7.0,3.2,4.7,1.4,6.4,3.2,4.5,1.5,7.3,2.9,6.3,1.8,6.7,3.1,5.6,2.4,6.2,2.9,4.3,1.3,6.0,2.7,5.1,1.6,5.1,3.8,1.9,0.4,6.7,2.5,5.8,1.8,5.0,3.2,1.2,0.2,5.8,2.7,3.9,1.2,5.1,3.5,1.4,0.2,6.9,3.1,5.4,2.1,5.7,4.4,1.5,0.4,4.9,2.4,3.3,1.0,5.7,3.8,1.7,0.3,5.5,2.5,4.0,1.3,7.7,3.8,6.7,2.2,5.2,2.7,3.9,1.4,4.8,3.4,1.6,0.2,5.0,3.3,1.4,0.2,5.7,2.9,4.2,1.3,6.0,2.9,4.5,1.5,5.9,3.2,4.8,1.8,5.4,3.9,1.7,0.4,5.1,3.5,1.4,0.3,4.3,3.0,1.1,0.1,7.1,3.0,5.9,2.1,4.9,3.0,1.4,0.2,6.2,3.4,5.4,2.3]\n"
     ]
    }
   ],
   "source": [
    "dataset = [list(map(lambda x: str(float(x)), row.split(\",\")))[:-1] for row in text.split(\"\\n\")]\n",
    "\n",
    "rust_dataset = \"vec![\"\n",
    "for row in dataset:\n",
    "    rust_dataset += \",\".join(row) + \",\"\n",
    "    \n",
    "rust_dataset = rust_dataset.rstrip(\",\") + \"]\"\n",
    "print(rust_dataset)\n",
    "    "
   ]
  },
  {
   "cell_type": "code",
   "execution_count": 49,
   "id": "9c0e8a38",
   "metadata": {},
   "outputs": [
    {
     "name": "stdout",
     "output_type": "stream",
     "text": [
      "vec![0,1,0,1,0,1,0,0,0,2,2,0,0,2,2,1,0,1,2,1,0,1,2,1,2,0,2,1,1,2,2,2,1,1,1,0,1,0]\n"
     ]
    }
   ],
   "source": [
    "labels = [t[-1] for t in text.split(\"\\n\")]\n",
    "rust_vector_labels = \"vec![\" + \",\".join(labels)+ \"]\"\n",
    "print(rust_vector_labels)"
   ]
  },
  {
   "cell_type": "code",
   "execution_count": null,
   "id": "014d3054",
   "metadata": {},
   "outputs": [],
   "source": []
  }
 ],
 "metadata": {
  "kernelspec": {
   "display_name": "Python 3 (ipykernel)",
   "language": "python",
   "name": "python3"
  },
  "language_info": {
   "codemirror_mode": {
    "name": "ipython",
    "version": 3
   },
   "file_extension": ".py",
   "mimetype": "text/x-python",
   "name": "python",
   "nbconvert_exporter": "python",
   "pygments_lexer": "ipython3",
   "version": "3.11.2"
  }
 },
 "nbformat": 4,
 "nbformat_minor": 5
}
